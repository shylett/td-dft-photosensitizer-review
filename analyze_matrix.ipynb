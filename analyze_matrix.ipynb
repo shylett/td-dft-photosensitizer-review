{
 "cells": [
  {
   "cell_type": "markdown",
   "id": "e58b8086",
   "metadata": {},
   "source": [
    "# Analyze Photosensitizer Matrix\n",
    "This notebook loads and visualizes data from the TD-DFT literature review."
   ]
  },
  {
   "cell_type": "code",
   "execution_count": null,
   "id": "75b38c96",
   "metadata": {},
   "outputs": [],
   "source": [
    "import pandas as pd\n",
    "import matplotlib.pyplot as plt\n",
    "import seaborn as sns\n",
    "\n",
    "# Load the matrix\n",
    "matrix = pd.read_csv('photosensitizer_matrix.csv')\n",
    "matrix.head()"
   ]
  },
  {
   "cell_type": "markdown",
   "id": "b0a0df61",
   "metadata": {},
   "source": [
    "## Plot: Triplet State Energy vs. ROS Yield"
   ]
  },
  {
   "cell_type": "code",
   "execution_count": null,
   "id": "5d8857be",
   "metadata": {},
   "outputs": [],
   "source": [
    "plt.figure(figsize=(6, 4))\n",
    "sns.scatterplot(data=matrix, x='Triplet State Energy (eV)', y='ROS Yield', hue='Molecule', s=100)\n",
    "plt.title('Triplet State Energy vs. ROS Yield')\n",
    "plt.grid(True)\n",
    "plt.tight_layout()\n",
    "plt.show()"
   ]
  },
  {
   "cell_type": "markdown",
   "id": "e5811b25",
   "metadata": {},
   "source": [
    "## Distribution of λmax"
   ]
  },
  {
   "cell_type": "code",
   "execution_count": null,
   "id": "42c7dab9",
   "metadata": {},
   "outputs": [],
   "source": [
    "plt.figure(figsize=(6, 4))\n",
    "sns.histplot(data=matrix, x='λmax (nm)', bins=5, kde=True)\n",
    "plt.title('Distribution of λmax in Reviewed Photosensitizers')\n",
    "plt.xlabel('λmax (nm)')\n",
    "plt.tight_layout()\n",
    "plt.show()"
   ]
  }
 ],
 "metadata": {},
 "nbformat": 4,
 "nbformat_minor": 5
}
